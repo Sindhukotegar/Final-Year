{
 "cells": [
  {
   "cell_type": "markdown",
   "id": "hearing-range",
   "metadata": {
    "papermill": {
     "duration": 0.022153,
     "end_time": "2022-06-20T20:23:06.519383",
     "exception": false,
     "start_time": "2022-06-20T20:23:06.497230",
     "status": "completed"
    },
    "tags": []
   },
   "source": [
    "## Importing dependencies"
   ]
  },
  {
   "cell_type": "code",
   "execution_count": 1,
   "id": "conventional-heading",
   "metadata": {
    "execution": {
     "iopub.execute_input": "2022-06-20T20:23:06.567043Z",
     "iopub.status.busy": "2022-06-20T20:23:06.565570Z",
     "iopub.status.idle": "2022-06-20T20:23:11.693609Z",
     "shell.execute_reply": "2022-06-20T20:23:11.692650Z",
     "shell.execute_reply.started": "2022-06-20T20:22:46.907227Z"
    },
    "id": "RcTz0DX991Q6",
    "papermill": {
     "duration": 5.153533,
     "end_time": "2022-06-20T20:23:11.693771",
     "exception": false,
     "start_time": "2022-06-20T20:23:06.540238",
     "status": "completed"
    },
    "tags": []
   },
   "outputs": [],
   "source": [
    "%matplotlib inline\n",
    "import numpy as np \n",
    "import pandas as pd\n",
    "import os\n",
    "from glob import glob\n",
    "import matplotlib.pyplot as plt\n",
    "from keras_preprocessing.image import ImageDataGenerator\n",
    "from tensorflow.keras.applications import Xception\n",
    "from tensorflow.keras.layers import GlobalAveragePooling2D\n",
    "import tensorflow as tf\n",
    "from tensorflow.keras.callbacks import ModelCheckpoint, EarlyStopping, ReduceLROnPlateau\n",
    "from keras.models import Model"
   ]
  },
  {
   "cell_type": "code",
   "execution_count": 2,
   "id": "criminal-bahamas",
   "metadata": {
    "execution": {
     "iopub.execute_input": "2022-06-20T20:23:11.742384Z",
     "iopub.status.busy": "2022-06-20T20:23:11.741734Z",
     "iopub.status.idle": "2022-06-20T20:23:12.380049Z",
     "shell.execute_reply": "2022-06-20T20:23:12.379139Z",
     "shell.execute_reply.started": "2022-06-20T20:22:48.893847Z"
    },
    "id": "urSEnaIU91Q-",
    "outputId": "ff1217bf-5ce7-4e9e-b7b9-acff10a56576",
    "papermill": {
     "duration": 0.664955,
     "end_time": "2022-06-20T20:23:12.380193",
     "exception": false,
     "start_time": "2022-06-20T20:23:11.715238",
     "status": "completed"
    },
    "tags": []
   },
   "outputs": [],
   "source": [
    "n_class = 5\n",
    "root_path = \"/kaggle/input/kneeoa/\"\n",
    "folder_list = os.listdir(root_path)\n",
    "image_path_list = []\n",
    "label_list = []\n",
    "\n",
    "for folder in folder_list:\n",
    "    for label in range(n_class):\n",
    "        image_list = os.listdir(f\"{root_path}{folder}/{label}\")\n",
    "        image_path_list += [ f\"{root_path}{folder}/{label}/\"+ path for path in image_list]\n",
    "        label_list += [label] * len(image_list)\n",
    "df_train_kaggle = pd.DataFrame({\"filepath\" : image_path_list, \"label\": label_list})"
   ]
  },
  {
   "cell_type": "code",
   "execution_count": 3,
   "id": "distributed-paragraph",
   "metadata": {
    "execution": {
     "iopub.execute_input": "2022-06-20T20:23:12.428039Z",
     "iopub.status.busy": "2022-06-20T20:23:12.427320Z",
     "iopub.status.idle": "2022-06-20T20:23:12.430652Z",
     "shell.execute_reply": "2022-06-20T20:23:12.431242Z",
     "shell.execute_reply.started": "2022-06-20T20:22:50.872931Z"
    },
    "papermill": {
     "duration": 0.029757,
     "end_time": "2022-06-20T20:23:12.431374",
     "exception": false,
     "start_time": "2022-06-20T20:23:12.401617",
     "status": "completed"
    },
    "tags": []
   },
   "outputs": [
    {
     "data": {
      "text/plain": [
       "(9786, 2)"
      ]
     },
     "execution_count": 3,
     "metadata": {},
     "output_type": "execute_result"
    }
   ],
   "source": [
    "df_train_kaggle.shape"
   ]
  },
  {
   "cell_type": "code",
   "execution_count": 4,
   "id": "organizational-campus",
   "metadata": {
    "execution": {
     "iopub.execute_input": "2022-06-20T20:23:12.484168Z",
     "iopub.status.busy": "2022-06-20T20:23:12.483404Z",
     "iopub.status.idle": "2022-06-20T20:23:12.641972Z",
     "shell.execute_reply": "2022-06-20T20:23:12.641538Z",
     "shell.execute_reply.started": "2022-06-20T20:22:50.883243Z"
    },
    "papermill": {
     "duration": 0.188986,
     "end_time": "2022-06-20T20:23:12.642091",
     "exception": false,
     "start_time": "2022-06-20T20:23:12.453105",
     "status": "completed"
    },
    "tags": []
   },
   "outputs": [
    {
     "data": {
      "text/plain": [
       "Text(0, 0.5, 'count')"
      ]
     },
     "execution_count": 4,
     "metadata": {},
     "output_type": "execute_result"
    },
    {
     "data": {
      "image/png": "[encoded data removed]",
      "text/plain": [
       "<Figure size 432x288 with 1 Axes>"
      ]
     },
     "metadata": {
      "needs_background": "light"
     },
     "output_type": "display_data"
    }
   ],
   "source": [
    "df_train_kaggle.label.value_counts().plot.bar()\n",
    "plt.xlabel(\"label\")\n",
    "plt.ylabel(\"count\")"
   ]
  },
  {
   "cell_type": "code",
   "execution_count": 5,
   "id": "political-classification",
   "metadata": {
    "execution": {
     "iopub.execute_input": "2022-06-20T20:23:12.689526Z",
     "iopub.status.busy": "2022-06-20T20:23:12.689025Z",
     "iopub.status.idle": "2022-06-20T20:23:12.692784Z",
     "shell.execute_reply": "2022-06-20T20:23:12.692388Z",
     "shell.execute_reply.started": "2022-06-20T20:22:51.055708Z"
    },
    "id": "VrchCvl291RC",
    "papermill": {
     "duration": 0.028528,
     "end_time": "2022-06-20T20:23:12.692910",
     "exception": false,
     "start_time": "2022-06-20T20:23:12.664382",
     "status": "completed"
    },
    "tags": []
   },
   "outputs": [],
   "source": [
    "# train data generator object\n",
    "train_aug = ImageDataGenerator(rescale=1./255)\n",
    "\n",
    "# validation data generator object\n",
    "valid_aug = ImageDataGenerator(rescale=1./255)"
   ]
  },
  {
   "cell_type": "code",
   "execution_count": 6,
   "id": "informational-miami",
   "metadata": {
    "execution": {
     "iopub.execute_input": "2022-06-20T20:23:12.758625Z",
     "iopub.status.busy": "2022-06-20T20:23:12.750287Z",
     "iopub.status.idle": "2022-06-20T20:23:13.880539Z",
     "shell.execute_reply": "2022-06-20T20:23:13.881097Z"
    },
    "id": "nU1xBx-G91RD",
    "outputId": "347a1e8b-0517-443e-f7b5-dc0ee58ae8d4",
    "papermill": {
     "duration": 1.16683,
     "end_time": "2022-06-20T20:23:13.881300",
     "exception": false,
     "start_time": "2022-06-20T20:23:12.714470",
     "status": "completed"
    },
    "tags": []
   },
   "outputs": [
    {
     "name": "stdout",
     "output_type": "stream",
     "text": [
      "Found 9786 validated image filenames.\n"
     ]
    }
   ],
   "source": [
    "# create train generator\n",
    "train_generator = train_aug.flow_from_dataframe(\n",
    "dataframe=df_train_kaggle,\n",
    "directory=None,\n",
    "x_col=\"filepath\",\n",
    "y_col=\"label\",\n",
    "batch_size=32,\n",
    "seed=42,\n",
    "shuffle=True,\n",
    "class_mode=\"raw\",\n",
    "target_size=(224,224))"
   ]
  },
  {
   "cell_type": "code",
   "execution_count": 7,
   "id": "vital-interference",
   "metadata": {
    "execution": {
     "iopub.execute_input": "2022-06-20T20:23:13.931362Z",
     "iopub.status.busy": "2022-06-20T20:23:13.930786Z",
     "iopub.status.idle": "2022-06-20T20:23:38.764026Z",
     "shell.execute_reply": "2022-06-20T20:23:38.763461Z"
    },
    "papermill": {
     "duration": 24.859744,
     "end_time": "2022-06-20T20:23:38.764183",
     "exception": false,
     "start_time": "2022-06-20T20:23:13.904439",
     "status": "completed"
    },
    "tags": []
   },
   "outputs": [
    {
     "name": "stdout",
     "output_type": "stream",
     "text": [
      "Collecting gdown\r\n",
      "  Downloading gdown-4.4.0.tar.gz (14 kB)\r\n",
      "  Installing build dependencies ... \u001b[?25l-\b \b\\\b \b|\b \b/\b \b-\b \bdone\r\n",
      "\u001b[?25h  Getting requirements to build wheel ... \u001b[?25l-\b \b\\\b \b|\b \b/\b \b-\b \bdone\r\n",
      "\u001b[?25h    Preparing wheel metadata ... \u001b[?25l-\b \b\\\b \b|\b \b/\b \b-\b \bdone\r\n",
      "\u001b[?25hRequirement already satisfied: requests[socks] in /opt/conda/lib/python3.7/site-packages (from gdown) (2.25.1)\r\n",
      "Requirement already satisfied: six in /opt/conda/lib/python3.7/site-packages (from gdown) (1.15.0)\r\n",
      "Requirement already satisfied: filelock in /opt/conda/lib/python3.7/site-packages (from gdown) (3.0.12)\r\n",
      "Requirement already satisfied: tqdm in /opt/conda/lib/python3.7/site-packages (from gdown) (4.59.0)\r\n",
      "Collecting beautifulsoup4\r\n",
      "  Downloading beautifulsoup4-4.11.1-py3-none-any.whl (128 kB)\r\n",
      "\u001b[K     |████████████████████████████████| 128 kB 923 kB/s \r\n",
      "\u001b[?25hCollecting soupsieve>1.2\r\n",
      "  Downloading soupsieve-2.3.2.post1-py3-none-any.whl (37 kB)\r\n",
      "Requirement already satisfied: urllib3<1.27,>=1.21.1 in /opt/conda/lib/python3.7/site-packages (from requests[socks]->gdown) (1.26.4)\r\n",
      "Requirement already satisfied: certifi>=2017.4.17 in /opt/conda/lib/python3.7/site-packages (from requests[socks]->gdown) (2020.12.5)\r\n",
      "Requirement already satisfied: chardet<5,>=3.0.2 in /opt/conda/lib/python3.7/site-packages (from requests[socks]->gdown) (4.0.0)\r\n",
      "Requirement already satisfied: idna<3,>=2.5 in /opt/conda/lib/python3.7/site-packages (from requests[socks]->gdown) (2.10)\r\n",
      "Requirement already satisfied: PySocks!=1.5.7,>=1.5.6 in /opt/conda/lib/python3.7/site-packages (from requests[socks]->gdown) (1.7.1)\r\n",
      "Building wheels for collected packages: gdown\r\n",
      "  Building wheel for gdown (PEP 517) ... \u001b[?25l-\b \b\\\b \b|\b \b/\b \b-\b \b\\\b \b|\b \bdone\r\n",
      "\u001b[?25h  Created wheel for gdown: filename=gdown-4.4.0-py3-none-any.whl size=14759 sha256=f71e7c5effcadad3bdab45d6d489c8ac30f4fd564bca8f389034a0798be2a1ae\r\n",
      "  Stored in directory: /root/.cache/pip/wheels/fb/c3/0e/c4d8ff8bfcb0461afff199471449f642179b74968c15b7a69c\r\n",
      "Successfully built gdown\r\n",
      "Installing collected packages: soupsieve, beautifulsoup4, gdown\r\n",
      "Successfully installed beautifulsoup4-4.11.1 gdown-4.4.0 soupsieve-2.3.2.post1\r\n",
      "/opt/conda/lib/python3.7/site-packages/gdown/cli.py:131: FutureWarning: Option `--id` was deprecated in version 4.3.1 and will be removed in 5.0. You don't need to pass it anymore to use a file ID.\r\n",
      "  category=FutureWarning,\r\n",
      "Downloading...\r\n",
      "From: https://drive.google.com/uc?id=1NdDqPK4NLn2aV8ZdF5ilux1sfG6IyebC\r\n",
      "To: /kaggle/working/KneeXray.zip\r\n",
      "100%|█████████████████████████████████████████| 120M/120M [00:00<00:00, 289MB/s]\r\n"
     ]
    }
   ],
   "source": [
    "# download data from shared google drive link\n",
    "!pip install gdown\n",
    "!gdown --id \"1NdDqPK4NLn2aV8ZdF5ilux1sfG6IyebC\""
   ]
  },
  {
   "cell_type": "code",
   "execution_count": 8,
   "id": "large-bicycle",
   "metadata": {
    "execution": {
     "iopub.execute_input": "2022-06-20T20:23:38.847418Z",
     "iopub.status.busy": "2022-06-20T20:23:38.840134Z",
     "iopub.status.idle": "2022-06-20T20:23:40.982986Z",
     "shell.execute_reply": "2022-06-20T20:23:40.982464Z"
    },
    "papermill": {
     "duration": 2.183244,
     "end_time": "2022-06-20T20:23:40.983114",
     "exception": false,
     "start_time": "2022-06-20T20:23:38.799870",
     "status": "completed"
    },
    "tags": []
   },
   "outputs": [],
   "source": [
    "# unzip the data\n",
    "!unzip -q -o /kaggle/working/KneeXray.zip -d /kaggle/working/"
   ]
  },
  {
   "cell_type": "code",
   "execution_count": 9,
   "id": "oriental-commodity",
   "metadata": {
    "execution": {
     "iopub.execute_input": "2022-06-20T20:23:41.058181Z",
     "iopub.status.busy": "2022-06-20T20:23:41.057392Z",
     "iopub.status.idle": "2022-06-20T20:23:41.079355Z",
     "shell.execute_reply": "2022-06-20T20:23:41.078748Z"
    },
    "papermill": {
     "duration": 0.061126,
     "end_time": "2022-06-20T20:23:41.079474",
     "exception": false,
     "start_time": "2022-06-20T20:23:41.018348",
     "status": "completed"
    },
    "tags": []
   },
   "outputs": [
    {
     "data": {
      "text/html": [
       "<div>\n",
       "<style scoped>\n",
       "    .dataframe tbody tr th:only-of-type {\n",
       "        vertical-align: middle;\n",
       "    }\n",
       "\n",
       "    .dataframe tbody tr th {\n",
       "        vertical-align: top;\n",
       "    }\n",
       "\n",
       "    .dataframe thead th {\n",
       "        text-align: right;\n",
       "    }\n",
       "</style>\n",
       "<table border=\"1\" class=\"dataframe\">\n",
       "  <thead>\n",
       "    <tr style=\"text-align: right;\">\n",
       "      <th></th>\n",
       "      <th>filename</th>\n",
       "      <th>label</th>\n",
       "    </tr>\n",
       "  </thead>\n",
       "  <tbody>\n",
       "    <tr>\n",
       "      <th>0</th>\n",
       "      <td>/kaggle/working/KneeXray/train/Image_1.jpg</td>\n",
       "      <td>0</td>\n",
       "    </tr>\n",
       "    <tr>\n",
       "      <th>1</th>\n",
       "      <td>/kaggle/working/KneeXray/train/Image_2.jpg</td>\n",
       "      <td>1</td>\n",
       "    </tr>\n",
       "    <tr>\n",
       "      <th>2</th>\n",
       "      <td>/kaggle/working/KneeXray/train/Image_3.jpg</td>\n",
       "      <td>0</td>\n",
       "    </tr>\n",
       "    <tr>\n",
       "      <th>3</th>\n",
       "      <td>/kaggle/working/KneeXray/train/Image_4.jpg</td>\n",
       "      <td>1</td>\n",
       "    </tr>\n",
       "    <tr>\n",
       "      <th>4</th>\n",
       "      <td>/kaggle/working/KneeXray/train/Image_5.jpg</td>\n",
       "      <td>2</td>\n",
       "    </tr>\n",
       "  </tbody>\n",
       "</table>\n",
       "</div>"
      ],
      "text/plain": [
       "                                     filename  label\n",
       "0  /kaggle/working/KneeXray/train/Image_1.jpg      0\n",
       "1  /kaggle/working/KneeXray/train/Image_2.jpg      1\n",
       "2  /kaggle/working/KneeXray/train/Image_3.jpg      0\n",
       "3  /kaggle/working/KneeXray/train/Image_4.jpg      1\n",
       "4  /kaggle/working/KneeXray/train/Image_5.jpg      2"
      ]
     },
     "execution_count": 9,
     "metadata": {},
     "output_type": "execute_result"
    }
   ],
   "source": [
    "# read Train.csv file which contains image names and labels and preprocess them\n",
    "compi_root_path= \"/kaggle/working/KneeXray/\"\n",
    "df_val_compi = pd.read_csv(compi_root_path + \"Train.csv\")\n",
    "\n",
    "# add absolute path to the image names\n",
    "df_val_compi[\"filename\"] = df_val_compi.filename.apply(lambda x: compi_root_path+\"train/\" + x)\n",
    "df_val_compi.head()"
   ]
  },
  {
   "cell_type": "code",
   "execution_count": 10,
   "id": "democratic-charge",
   "metadata": {
    "execution": {
     "iopub.execute_input": "2022-06-20T20:23:41.154577Z",
     "iopub.status.busy": "2022-06-20T20:23:41.153815Z",
     "iopub.status.idle": "2022-06-20T20:23:41.265342Z",
     "shell.execute_reply": "2022-06-20T20:23:41.264926Z"
    },
    "papermill": {
     "duration": 0.1521,
     "end_time": "2022-06-20T20:23:41.265454",
     "exception": false,
     "start_time": "2022-06-20T20:23:41.113354",
     "status": "completed"
    },
    "tags": []
   },
   "outputs": [
    {
     "data": {
      "text/plain": [
       "Text(0, 0.5, 'count')"
      ]
     },
     "execution_count": 10,
     "metadata": {},
     "output_type": "execute_result"
    },
    {
     "data": {
      "image/png": "[encoded data removed]",
      "text/plain": [
       "<Figure size 432x288 with 1 Axes>"
      ]
     },
     "metadata": {
      "needs_background": "light"
     },
     "output_type": "display_data"
    }
   ],
   "source": [
    "# class count of compitition dataset\n",
    "df_val_compi.label.value_counts().plot.bar()\n",
    "plt.xlabel(\"label\")\n",
    "plt.ylabel(\"count\")"
   ]
  },
  {
   "cell_type": "code",
   "execution_count": 11,
   "id": "pending-michael",
   "metadata": {
    "execution": {
     "iopub.execute_input": "2022-06-20T20:23:41.355039Z",
     "iopub.status.busy": "2022-06-20T20:23:41.354289Z",
     "iopub.status.idle": "2022-06-20T20:23:41.402736Z",
     "shell.execute_reply": "2022-06-20T20:23:41.402306Z"
    },
    "id": "p_d_De3_91RE",
    "outputId": "b4da3cb0-33e6-40eb-e4e4-710957e337a1",
    "papermill": {
     "duration": 0.102233,
     "end_time": "2022-06-20T20:23:41.402847",
     "exception": false,
     "start_time": "2022-06-20T20:23:41.300614",
     "status": "completed"
    },
    "tags": []
   },
   "outputs": [
    {
     "name": "stdout",
     "output_type": "stream",
     "text": [
      "Found 7828 validated image filenames.\n"
     ]
    }
   ],
   "source": [
    "# create validation generator\n",
    "valid_generator = valid_aug.flow_from_dataframe( \n",
    "dataframe= df_val_compi,\n",
    "x_col= \"filename\",\n",
    "y_col= \"label\",\n",
    "batch_size= 32,\n",
    "seed= 42,\n",
    "shuffle= True,\n",
    "class_mode= \"raw\",\n",
    "target_size= (224,224))"
   ]
  },
  {
   "cell_type": "code",
   "execution_count": 12,
   "id": "ruled-advice",
   "metadata": {
    "execution": {
     "iopub.execute_input": "2022-06-20T20:23:41.486431Z",
     "iopub.status.busy": "2022-06-20T20:23:41.485923Z",
     "iopub.status.idle": "2022-06-20T20:23:45.472462Z",
     "shell.execute_reply": "2022-06-20T20:23:45.471769Z"
    },
    "id": "hCEJz92_91RF",
    "outputId": "1127ca7c-5c92-43c2-8e00-35460cd25e7f",
    "papermill": {
     "duration": 4.033984,
     "end_time": "2022-06-20T20:23:45.472598",
     "exception": false,
     "start_time": "2022-06-20T20:23:41.438614",
     "status": "completed"
    },
    "tags": []
   },
   "outputs": [
    {
     "name": "stdout",
     "output_type": "stream",
     "text": [
      "Downloading data from https://storage.googleapis.com/tensorflow/keras-applications/xception/xception_weights_tf_dim_ordering_tf_kernels.h5\n",
      "91889664/91884032 [==============================] - 0s 0us/step\n"
     ]
    }
   ],
   "source": [
    "xception = Xception(weights=\"imagenet\",)\n",
    "x=  xception.layers[-3].output\n",
    "\n",
    "x = tf.keras.layers.Conv2D(filters= 1024, kernel_size= 3, padding= \"same\")(x)\n",
    "x = tf.keras.layers.BatchNormalization()(x)\n",
    "x = tf.keras.layers.Activation(\"relu\")(x)\n",
    "\n",
    "x = tf.keras.layers.Conv2D(filters= 256, kernel_size= 3, padding= \"same\")(x)\n",
    "x = tf.keras.layers.BatchNormalization()(x)\n",
    "x = tf.keras.layers.Activation(\"relu\")(x)\n",
    "\n",
    "x = tf.keras.layers.Conv2D(filters= 64, kernel_size= 3, padding= \"same\")(x)\n",
    "x = tf.keras.layers.BatchNormalization()(x)\n",
    "x = tf.keras.layers.Activation(\"relu\")(x)\n",
    "\n",
    "x = tf.keras.layers.Conv2D(filters= n_class, kernel_size= 3, padding= \"same\")(x)\n",
    "x = tf.keras.layers.BatchNormalization()(x)\n",
    "x = tf.keras.layers.Activation(\"relu\")(x)\n",
    "\n",
    "GAP = tf.keras.layers.GlobalAveragePooling2D()(x)\n",
    "pred = tf.keras.activations.softmax(GAP)\n",
    "\n",
    "xception_model = Model(inputs=xception.input,outputs=pred)"
   ]
  },
  {
   "cell_type": "code",
   "execution_count": 13,
   "id": "virgin-scout",
   "metadata": {
    "execution": {
     "iopub.execute_input": "2022-06-20T20:23:45.726920Z",
     "iopub.status.busy": "2022-06-20T20:23:45.726075Z",
     "iopub.status.idle": "2022-06-20T20:23:45.738932Z",
     "shell.execute_reply": "2022-06-20T20:23:45.738162Z"
    },
    "id": "p9cMWPzr91RH",
    "papermill": {
     "duration": 0.228152,
     "end_time": "2022-06-20T20:23:45.739055",
     "exception": false,
     "start_time": "2022-06-20T20:23:45.510903",
     "status": "completed"
    },
    "tags": []
   },
   "outputs": [],
   "source": [
    "# compile\n",
    "xception_model.compile(optimizer = tf.keras.optimizers.Adam(learning_rate=0.00001,decay=0.0001),\n",
    "                 metrics=[\"acc\"],\n",
    "                 loss= tf.keras.losses.sparse_categorical_crossentropy)\n",
    "\n",
    "# callbacks and checkpoints\n",
    "checkpoint_path = \"xception_best.ckpt\"\n",
    "checkpoint_dir = os.path.dirname(checkpoint_path)\n",
    "my_callbacks = [\n",
    "               ModelCheckpoint(checkpoint_path,\n",
    "                               monitor = 'val_acc',\n",
    "                               verbose = 1,\n",
    "                               save_weights_only=True,\n",
    "                               save_best_only = True,\n",
    "                               mode=\"max\"),\n",
    "              EarlyStopping(monitor='val_loss',\n",
    "                            patience=5,\n",
    "                            verbose=0),\n",
    "              ReduceLROnPlateau(monitor='val_loss',\n",
    "                                patience=5,\n",
    "                                verbose=1)\n",
    "]"
   ]
  },
  {
   "cell_type": "code",
   "execution_count": 14,
   "id": "minimal-wilderness",
   "metadata": {
    "execution": {
     "iopub.execute_input": "2022-06-20T20:23:45.821635Z",
     "iopub.status.busy": "2022-06-20T20:23:45.821108Z",
     "iopub.status.idle": "2022-06-20T20:23:46.298695Z",
     "shell.execute_reply": "2022-06-20T20:23:46.297926Z"
    },
    "papermill": {
     "duration": 0.521503,
     "end_time": "2022-06-20T20:23:46.298821",
     "exception": false,
     "start_time": "2022-06-20T20:23:45.777318",
     "status": "completed"
    },
    "tags": []
   },
   "outputs": [],
   "source": [
    "from sklearn.utils import class_weight\n",
    "class_weights = class_weight.compute_class_weight('balanced',\n",
    "                                                 classes= np.unique(df_train_kaggle.label.values),\n",
    "                                                 y= df_train_kaggle.label.values)\n",
    "class_weights = dict(enumerate(class_weights))"
   ]
  },
  {
   "cell_type": "code",
   "execution_count": 15,
   "id": "chicken-metropolitan",
   "metadata": {
    "execution": {
     "iopub.execute_input": "2022-06-20T20:23:46.383202Z",
     "iopub.status.busy": "2022-06-20T20:23:46.382591Z",
     "iopub.status.idle": "2022-06-20T20:48:53.843664Z",
     "shell.execute_reply": "2022-06-20T20:48:53.844243Z"
    },
    "id": "ZS9ZDJBG91RI",
    "outputId": "4c864283-b7a2-4075-bb8c-46164c13244b",
    "papermill": {
     "duration": 1507.505972,
     "end_time": "2022-06-20T20:48:53.844417",
     "exception": false,
     "start_time": "2022-06-20T20:23:46.338445",
     "status": "completed"
    },
    "tags": []
   },
   "outputs": [
    {
     "name": "stdout",
     "output_type": "stream",
     "text": [
      "Epoch 1/10\n",
      "306/306 [==============================] - 160s 492ms/step - loss: 1.5383 - acc: 0.2510 - val_loss: 1.6355 - val_acc: 0.2915\n",
      "\n",
      "Epoch 00001: val_acc improved from -inf to 0.29152, saving model to xception_best.ckpt\n",
      "Epoch 2/10\n",
      "306/306 [==============================] - 148s 483ms/step - loss: 1.1752 - acc: 0.4830 - val_loss: 1.5037 - val_acc: 0.3983\n",
      "\n",
      "Epoch 00002: val_acc improved from 0.29152 to 0.39831, saving model to xception_best.ckpt\n",
      "Epoch 3/10\n",
      "306/306 [==============================] - 148s 484ms/step - loss: 1.0299 - acc: 0.5684 - val_loss: 1.2045 - val_acc: 0.5761\n",
      "\n",
      "Epoch 00003: val_acc improved from 0.39831 to 0.57614, saving model to xception_best.ckpt\n",
      "Epoch 4/10\n",
      "306/306 [==============================] - 148s 484ms/step - loss: 0.9251 - acc: 0.6461 - val_loss: 1.1671 - val_acc: 0.6042\n",
      "\n",
      "Epoch 00004: val_acc improved from 0.57614 to 0.60424, saving model to xception_best.ckpt\n",
      "Epoch 5/10\n",
      "306/306 [==============================] - 148s 484ms/step - loss: 0.8317 - acc: 0.7138 - val_loss: 1.1205 - val_acc: 0.6226\n",
      "\n",
      "Epoch 00005: val_acc improved from 0.60424 to 0.62264, saving model to xception_best.ckpt\n",
      "Epoch 6/10\n",
      "306/306 [==============================] - 148s 483ms/step - loss: 0.7540 - acc: 0.7642 - val_loss: 1.0213 - val_acc: 0.6947\n",
      "\n",
      "Epoch 00006: val_acc improved from 0.62264 to 0.69469, saving model to xception_best.ckpt\n",
      "Epoch 7/10\n",
      "306/306 [==============================] - 148s 484ms/step - loss: 0.6929 - acc: 0.8207 - val_loss: 0.9551 - val_acc: 0.7628\n",
      "\n",
      "Epoch 00007: val_acc improved from 0.69469 to 0.76277, saving model to xception_best.ckpt\n",
      "Epoch 8/10\n",
      "306/306 [==============================] - 148s 484ms/step - loss: 0.6357 - acc: 0.8605 - val_loss: 0.9524 - val_acc: 0.7605\n",
      "\n",
      "Epoch 00008: val_acc did not improve from 0.76277\n",
      "Epoch 9/10\n",
      "306/306 [==============================] - 148s 484ms/step - loss: 0.6041 - acc: 0.8814 - val_loss: 0.9413 - val_acc: 0.7683\n",
      "\n",
      "Epoch 00009: val_acc improved from 0.76277 to 0.76827, saving model to xception_best.ckpt\n",
      "Epoch 10/10\n",
      "306/306 [==============================] - 148s 483ms/step - loss: 0.5675 - acc: 0.9128 - val_loss: 0.9226 - val_acc: 0.7768\n",
      "\n",
      "Epoch 00010: val_acc improved from 0.76827 to 0.77683, saving model to xception_best.ckpt\n"
     ]
    },
    {
     "data": {
      "text/plain": [
       "<tensorflow.python.training.tracking.util.CheckpointLoadStatus at 0x7f11ec33f7d0>"
      ]
     },
     "execution_count": 15,
     "metadata": {},
     "output_type": "execute_result"
    }
   ],
   "source": [
    "# train the model\n",
    "xception_model.fit(\n",
    "        train_generator,\n",
    "        epochs=10,\n",
    "        validation_data=valid_generator,\n",
    "        callbacks=[my_callbacks],\n",
    "        class_weight=class_weights)\n",
    "\n",
    "# load best saved weights\n",
    "xception_model.load_weights(checkpoint_path)"
   ]
  },
  {
   "cell_type": "code",
   "execution_count": 16,
   "id": "removed-integration",
   "metadata": {
    "execution": {
     "iopub.execute_input": "2022-06-20T20:48:55.626570Z",
     "iopub.status.busy": "2022-06-20T20:48:55.625952Z",
     "iopub.status.idle": "2022-06-20T20:48:55.682638Z",
     "shell.execute_reply": "2022-06-20T20:48:55.682211Z"
    },
    "id": "xTZKY61591RJ",
    "papermill": {
     "duration": 0.911134,
     "end_time": "2022-06-20T20:48:55.682771",
     "exception": false,
     "start_time": "2022-06-20T20:48:54.771637",
     "status": "completed"
    },
    "tags": []
   },
   "outputs": [],
   "source": [
    "# train and validation split on competition data\n",
    "from sklearn.model_selection import train_test_split\n",
    "X_train, X_test = train_test_split(df_val_compi,\n",
    "                                   test_size=0.1,\n",
    "                                   random_state=42,\n",
    "                                   stratify= df_val_compi.label)"
   ]
  },
  {
   "cell_type": "code",
   "execution_count": 17,
   "id": "genetic-mention",
   "metadata": {
    "execution": {
     "iopub.execute_input": "2022-06-20T20:48:57.536281Z",
     "iopub.status.busy": "2022-06-20T20:48:57.535475Z",
     "iopub.status.idle": "2022-06-20T20:48:57.581274Z",
     "shell.execute_reply": "2022-06-20T20:48:57.581849Z"
    },
    "id": "gRZD_AQE91RK",
    "outputId": "3aec7767-0b06-410b-cf55-b2f6dc2c6ed4",
    "papermill": {
     "duration": 1.065625,
     "end_time": "2022-06-20T20:48:57.582059",
     "exception": false,
     "start_time": "2022-06-20T20:48:56.516434",
     "status": "completed"
    },
    "tags": []
   },
   "outputs": [
    {
     "name": "stdout",
     "output_type": "stream",
     "text": [
      "Found 7045 validated image filenames.\n"
     ]
    }
   ],
   "source": [
    "train_generator = train_aug.flow_from_dataframe(\n",
    "dataframe = X_train,\n",
    "x_col=\"filename\",\n",
    "y_col=\"label\",\n",
    "batch_size=32,\n",
    "seed=42,\n",
    "shuffle=True,\n",
    "class_mode=\"raw\",\n",
    "target_size=(224,224))"
   ]
  },
  {
   "cell_type": "code",
   "execution_count": 18,
   "id": "detailed-breeding",
   "metadata": {
    "execution": {
     "iopub.execute_input": "2022-06-20T20:48:59.298009Z",
     "iopub.status.busy": "2022-06-20T20:48:59.297385Z",
     "iopub.status.idle": "2022-06-20T20:48:59.308629Z",
     "shell.execute_reply": "2022-06-20T20:48:59.308213Z"
    },
    "id": "XHls_W4B91RK",
    "outputId": "fc52d36f-8e70-45d2-a90c-4d530c554095",
    "papermill": {
     "duration": 0.837971,
     "end_time": "2022-06-20T20:48:59.308760",
     "exception": false,
     "start_time": "2022-06-20T20:48:58.470789",
     "status": "completed"
    },
    "tags": []
   },
   "outputs": [
    {
     "name": "stdout",
     "output_type": "stream",
     "text": [
      "Found 783 validated image filenames.\n"
     ]
    }
   ],
   "source": [
    "valid_generator = valid_aug.flow_from_dataframe( \n",
    "dataframe=X_test,\n",
    "x_col=\"filename\",\n",
    "y_col=\"label\",\n",
    "batch_size=32,\n",
    "seed=42,\n",
    "shuffle=True,\n",
    "class_mode=\"raw\",\n",
    "target_size=(224,224))"
   ]
  },
  {
   "cell_type": "code",
   "execution_count": 19,
   "id": "sophisticated-moldova",
   "metadata": {
    "execution": {
     "iopub.execute_input": "2022-06-20T20:49:01.135290Z",
     "iopub.status.busy": "2022-06-20T20:49:01.134532Z",
     "iopub.status.idle": "2022-06-20T20:49:01.136774Z",
     "shell.execute_reply": "2022-06-20T20:49:01.137491Z"
    },
    "id": "P67f-Nxn91RK",
    "papermill": {
     "duration": 0.995527,
     "end_time": "2022-06-20T20:49:01.137694",
     "exception": false,
     "start_time": "2022-06-20T20:49:00.142167",
     "status": "completed"
    },
    "tags": []
   },
   "outputs": [],
   "source": [
    "# number of steps to consider 1 as  epoch\n",
    "STEP_SIZE_TRAIN = train_generator.n//train_generator.batch_size\n",
    "STEP_SIZE_VALID =valid_generator.n//valid_generator.batch_size"
   ]
  },
  {
   "cell_type": "code",
   "execution_count": 20,
   "id": "polyphonic-tract",
   "metadata": {
    "execution": {
     "iopub.execute_input": "2022-06-20T20:49:02.867383Z",
     "iopub.status.busy": "2022-06-20T20:49:02.865563Z",
     "iopub.status.idle": "2022-06-20T20:56:58.854648Z",
     "shell.execute_reply": "2022-06-20T20:56:58.854107Z"
    },
    "id": "N8xX9ld391RL",
    "outputId": "eb60c9ed-cef3-45df-da38-ae926bf45f1a",
    "papermill": {
     "duration": 476.81481,
     "end_time": "2022-06-20T20:56:58.854787",
     "exception": false,
     "start_time": "2022-06-20T20:49:02.039977",
     "status": "completed"
    },
    "tags": []
   },
   "outputs": [
    {
     "name": "stdout",
     "output_type": "stream",
     "text": [
      "Epoch 1/5\n",
      "220/220 [==============================] - 97s 430ms/step - loss: 0.8902 - acc: 0.8025 - val_loss: 0.7666 - val_acc: 0.8620\n",
      "\n",
      "Epoch 00001: val_acc improved from 0.77683 to 0.86198, saving model to xception_best.ckpt\n",
      "Epoch 2/5\n",
      "220/220 [==============================] - 94s 427ms/step - loss: 0.7799 - acc: 0.8875 - val_loss: 0.8504 - val_acc: 0.8086\n",
      "\n",
      "Epoch 00002: val_acc did not improve from 0.86198\n",
      "Epoch 3/5\n",
      "220/220 [==============================] - 94s 426ms/step - loss: 0.7129 - acc: 0.9286 - val_loss: 0.8297 - val_acc: 0.8542\n",
      "\n",
      "Epoch 00003: val_acc did not improve from 0.86198\n",
      "Epoch 4/5\n",
      "220/220 [==============================] - 94s 426ms/step - loss: 0.6830 - acc: 0.9512 - val_loss: 0.8318 - val_acc: 0.8633\n",
      "\n",
      "Epoch 00004: val_acc improved from 0.86198 to 0.86328, saving model to xception_best.ckpt\n",
      "Epoch 5/5\n",
      "220/220 [==============================] - 94s 428ms/step - loss: 0.6581 - acc: 0.9616 - val_loss: 0.8336 - val_acc: 0.8451\n",
      "\n",
      "Epoch 00005: val_acc did not improve from 0.86328\n"
     ]
    }
   ],
   "source": [
    "# kick off training\n",
    "# Epoch greater than 5 cause overfitting the dataset\n",
    "history = xception_model.fit(\n",
    "        train_generator,\n",
    "        steps_per_epoch=STEP_SIZE_TRAIN,\n",
    "        epochs=5,\n",
    "        validation_data=valid_generator,\n",
    "        validation_steps=STEP_SIZE_VALID,callbacks=[my_callbacks])"
   ]
  },
  {
   "cell_type": "code",
   "execution_count": 21,
   "id": "isolated-reservation",
   "metadata": {
    "execution": {
     "iopub.execute_input": "2022-06-20T20:57:01.107624Z",
     "iopub.status.busy": "2022-06-20T20:57:01.097945Z",
     "iopub.status.idle": "2022-06-20T20:57:02.297781Z",
     "shell.execute_reply": "2022-06-20T20:57:02.298176Z"
    },
    "id": "lSJjsKXu91RL",
    "outputId": "3fe99519-ff78-40bd-c632-74d12b41a4bb",
    "papermill": {
     "duration": 2.328933,
     "end_time": "2022-06-20T20:57:02.298334",
     "exception": false,
     "start_time": "2022-06-20T20:56:59.969401",
     "status": "completed"
    },
    "tags": []
   },
   "outputs": [
    {
     "data": {
      "text/plain": [
       "<tensorflow.python.training.tracking.util.CheckpointLoadStatus at 0x7f0e21fcf1d0>"
      ]
     },
     "execution_count": 21,
     "metadata": {},
     "output_type": "execute_result"
    }
   ],
   "source": [
    "# load best saved weights\n",
    "xception_model.load_weights(checkpoint_path)"
   ]
  },
  {
   "cell_type": "code",
   "execution_count": 22,
   "id": "judicial-syracuse",
   "metadata": {
    "execution": {
     "iopub.execute_input": "2022-06-20T20:57:04.556223Z",
     "iopub.status.busy": "2022-06-20T20:57:04.555329Z",
     "iopub.status.idle": "2022-06-20T20:57:04.565267Z",
     "shell.execute_reply": "2022-06-20T20:57:04.564809Z"
    },
    "papermill": {
     "duration": 1.118105,
     "end_time": "2022-06-20T20:57:04.565381",
     "exception": false,
     "start_time": "2022-06-20T20:57:03.447276",
     "status": "completed"
    },
    "tags": []
   },
   "outputs": [
    {
     "name": "stdout",
     "output_type": "stream",
     "text": [
      "Found 783 validated image filenames.\n"
     ]
    }
   ],
   "source": [
    "from sklearn.metrics import precision_recall_curve\n",
    "target_shape = 224\n",
    "BATCH_SIZE = 1\n",
    "\n",
    "# test generator\n",
    "compi_gen = valid_aug.flow_from_dataframe(dataframe= X_test,\n",
    "                            x_col= \"filename\",\n",
    "                            class_mode=None,\n",
    "                            target_size= (target_shape, target_shape),\n",
    "                            shuffle= False,\n",
    "                            batch_size= BATCH_SIZE\n",
    "                            )"
   ]
  },
  {
   "cell_type": "code",
   "execution_count": 23,
   "id": "sacred-injection",
   "metadata": {
    "execution": {
     "iopub.execute_input": "2022-06-20T20:57:07.054868Z",
     "iopub.status.busy": "2022-06-20T20:57:07.054097Z",
     "iopub.status.idle": "2022-06-20T20:57:16.400131Z",
     "shell.execute_reply": "2022-06-20T20:57:16.400566Z"
    },
    "papermill": {
     "duration": 10.45661,
     "end_time": "2022-06-20T20:57:16.400717",
     "exception": false,
     "start_time": "2022-06-20T20:57:05.944107",
     "status": "completed"
    },
    "tags": []
   },
   "outputs": [
    {
     "name": "stdout",
     "output_type": "stream",
     "text": [
      "783/783 [==============================] - 9s 11ms/step\n"
     ]
    }
   ],
   "source": [
    "# prediction on train data\n",
    "predicition_compi = xception_model.predict(compi_gen, steps= compi_gen.n/ BATCH_SIZE, verbose= 1)"
   ]
  },
  {
   "cell_type": "code",
   "execution_count": 24,
   "id": "classical-manitoba",
   "metadata": {
    "execution": {
     "iopub.execute_input": "2022-06-20T20:57:18.744665Z",
     "iopub.status.busy": "2022-06-20T20:57:18.744138Z",
     "iopub.status.idle": "2022-06-20T20:57:18.945012Z",
     "shell.execute_reply": "2022-06-20T20:57:18.944027Z"
    },
    "papermill": {
     "duration": 1.399607,
     "end_time": "2022-06-20T20:57:18.945137",
     "exception": false,
     "start_time": "2022-06-20T20:57:17.545530",
     "status": "completed"
    },
    "tags": []
   },
   "outputs": [
    {
     "data": {
      "text/plain": [
       "<sklearn.metrics._plot.confusion_matrix.ConfusionMatrixDisplay at 0x7f0e21f9c3d0>"
      ]
     },
     "execution_count": 24,
     "metadata": {},
     "output_type": "execute_result"
    },
    {
     "data": {
      "image/png": "[encoded data removed]",
      "text/plain": [
       "<Figure size 432x288 with 2 Axes>"
      ]
     },
     "metadata": {
      "needs_background": "light"
     },
     "output_type": "display_data"
    }
   ],
   "source": [
    "from sklearn.metrics import confusion_matrix, ConfusionMatrixDisplay\n",
    "class_prediction_compi =  np.argmax(predicition_compi, axis= 1)\n",
    "cm = confusion_matrix(X_test.label, class_prediction_compi, labels=[0, 1, 2, 3, 4])\n",
    "disp = ConfusionMatrixDisplay(confusion_matrix=cm,\n",
    "                              display_labels=[0, 1, 2, 3, 4])\n",
    "disp.plot()"
   ]
  },
  {
   "cell_type": "code",
   "execution_count": 25,
   "id": "random-swimming",
   "metadata": {
    "execution": {
     "iopub.execute_input": "2022-06-20T20:57:21.248056Z",
     "iopub.status.busy": "2022-06-20T20:57:21.247246Z",
     "iopub.status.idle": "2022-06-20T20:57:21.271337Z",
     "shell.execute_reply": "2022-06-20T20:57:21.271972Z"
    },
    "id": "NnkWdv8T91RM",
    "outputId": "fea0c8a7-0810-489a-9e62-69f11b5f1992",
    "papermill": {
     "duration": 1.180533,
     "end_time": "2022-06-20T20:57:21.272156",
     "exception": false,
     "start_time": "2022-06-20T20:57:20.091623",
     "status": "completed"
    },
    "tags": []
   },
   "outputs": [
    {
     "name": "stdout",
     "output_type": "stream",
     "text": [
      "Found 1958 validated image filenames.\n"
     ]
    }
   ],
   "source": [
    "# read the csv file\n",
    "test = pd.read_csv(compi_root_path + \"Test.csv\")\n",
    "\n",
    "# create test generator\n",
    "test_generator = valid_aug.flow_from_dataframe(\n",
    "dataframe= test,\n",
    "directory= compi_root_path + \"test\",\n",
    "x_col= \"filename\",\n",
    "y_col= None,\n",
    "batch_size= 1,\n",
    "seed= 42,\n",
    "shuffle= False,\n",
    "class_mode= None,\n",
    "target_size= (224,224))\n",
    "\n",
    "# number of steps to consider 1 epoch\n",
    "STEP_SIZE_TEST=test_generator.n//test_generator.batch_size"
   ]
  },
  {
   "cell_type": "code",
   "execution_count": 26,
   "id": "continuing-translation",
   "metadata": {
    "execution": {
     "iopub.execute_input": "2022-06-20T20:57:23.601519Z",
     "iopub.status.busy": "2022-06-20T20:57:23.600743Z",
     "iopub.status.idle": "2022-06-20T20:57:45.085411Z",
     "shell.execute_reply": "2022-06-20T20:57:45.085831Z"
    },
    "papermill": {
     "duration": 22.669141,
     "end_time": "2022-06-20T20:57:45.086008",
     "exception": false,
     "start_time": "2022-06-20T20:57:22.416867",
     "status": "completed"
    },
    "tags": []
   },
   "outputs": [
    {
     "name": "stdout",
     "output_type": "stream",
     "text": [
      "1958/1958 [==============================] - 21s 11ms/step\n"
     ]
    },
    {
     "data": {
      "text/plain": [
       "0    788\n",
       "2    482\n",
       "1    353\n",
       "3    275\n",
       "4     60\n",
       "Name: label, dtype: int64"
      ]
     },
     "execution_count": 26,
     "metadata": {},
     "output_type": "execute_result"
    }
   ],
   "source": [
    "# make prediction and create dataframe out of it\n",
    "pred = xception_model.predict(test_generator,steps=STEP_SIZE_TEST,verbose=1)\n",
    "df_submit = pd.DataFrame({\"label\":np.argmax(pred, axis= 1)})\n",
    "df_submit[\"label\"].value_counts()"
   ]
  },
  {
   "cell_type": "code",
   "execution_count": 27,
   "id": "protective-shooting",
   "metadata": {
    "execution": {
     "iopub.execute_input": "2022-06-20T20:57:47.612217Z",
     "iopub.status.busy": "2022-06-20T20:57:47.611424Z",
     "iopub.status.idle": "2022-06-20T20:57:48.006471Z",
     "shell.execute_reply": "2022-06-20T20:57:48.007059Z"
    },
    "papermill": {
     "duration": 1.673695,
     "end_time": "2022-06-20T20:57:48.007292",
     "exception": false,
     "start_time": "2022-06-20T20:57:46.333597",
     "status": "completed"
    },
    "tags": []
   },
   "outputs": [
    {
     "name": "stdout",
     "output_type": "stream",
     "text": [
      "Error: /kaggle/working - Device or resource busy.\n"
     ]
    }
   ],
   "source": [
    "import sys\n",
    "import shutil\n",
    "\n",
    "# Get directory name\n",
    "mydir = \"/kaggle/working\"\n",
    "\n",
    "try:\n",
    "    shutil.rmtree(mydir)\n",
    "except OSError as e:\n",
    "    print(\"Error: %s - %s.\" % (e.filename, e.strerror))"
   ]
  },
  {
   "cell_type": "code",
   "execution_count": 28,
   "id": "gentle-bracelet",
   "metadata": {
    "execution": {
     "iopub.execute_input": "2022-06-20T20:57:50.801011Z",
     "iopub.status.busy": "2022-06-20T20:57:50.800450Z",
     "iopub.status.idle": "2022-06-20T20:57:51.318016Z",
     "shell.execute_reply": "2022-06-20T20:57:51.316914Z"
    },
    "id": "qPbzHOhJ91RN",
    "papermill": {
     "duration": 1.775011,
     "end_time": "2022-06-20T20:57:51.318154",
     "exception": false,
     "start_time": "2022-06-20T20:57:49.543143",
     "status": "completed"
    },
    "tags": []
   },
   "outputs": [],
   "source": [
    "xception_model.save_weights(\"knee_xray_Xceptionnet_GPA.h5\")\n",
    "df_submit.to_csv(\"submission.csv\",index=False)"
   ]
  },
  {
   "cell_type": "code",
   "execution_count": 29,
   "id": "noble-moses",
   "metadata": {
    "execution": {
     "iopub.execute_input": "2022-06-20T20:57:53.816929Z",
     "iopub.status.busy": "2022-06-20T20:57:53.816190Z",
     "iopub.status.idle": "2022-06-20T20:58:07.880671Z",
     "shell.execute_reply": "2022-06-20T20:58:07.880056Z"
    },
    "papermill": {
     "duration": 15.308232,
     "end_time": "2022-06-20T20:58:07.880815",
     "exception": false,
     "start_time": "2022-06-20T20:57:52.572583",
     "status": "completed"
    },
    "tags": []
   },
   "outputs": [
    {
     "name": "stdout",
     "output_type": "stream",
     "text": [
      "Collecting ann_visualizer\r\n",
      "  Downloading ann_visualizer-2.5.tar.gz (4.7 kB)\r\n",
      "Building wheels for collected packages: ann-visualizer\r\n",
      "  Building wheel for ann-visualizer (setup.py) ... \u001b[?25l-\b \b\\\b \bdone\r\n",
      "\u001b[?25h  Created wheel for ann-visualizer: filename=ann_visualizer-2.5-py3-none-any.whl size=4168 sha256=a9224e9cc29347958017cfd57bc2078ac24c920cc65893f24c4957af624e7bd2\r\n",
      "  Stored in directory: /root/.cache/pip/wheels/1b/fc/58/2ab1c3b30350105929308becddda4fb59b1358e54f985e1f4a\r\n",
      "Successfully built ann-visualizer\r\n",
      "Installing collected packages: ann-visualizer\r\n",
      "Successfully installed ann-visualizer-2.5\r\n",
      "Requirement already satisfied: graphviz in /opt/conda/lib/python3.7/site-packages (0.8.4)\r\n"
     ]
    }
   ],
   "source": [
    "!pip install ann_visualizer\n",
    "!pip install graphviz"
   ]
  },
  {
   "cell_type": "code",
   "execution_count": 30,
   "id": "educated-ladder",
   "metadata": {
    "execution": {
     "iopub.execute_input": "2022-06-20T20:58:10.501673Z",
     "iopub.status.busy": "2022-06-20T20:58:10.497793Z",
     "iopub.status.idle": "2022-06-20T20:58:10.563670Z",
     "shell.execute_reply": "2022-06-20T20:58:10.563242Z"
    },
    "papermill": {
     "duration": 1.339463,
     "end_time": "2022-06-20T20:58:10.563797",
     "exception": false,
     "start_time": "2022-06-20T20:58:09.224334",
     "status": "completed"
    },
    "tags": []
   },
   "outputs": [
    {
     "name": "stdout",
     "output_type": "stream",
     "text": [
      "Model: \"model\"\n",
      "__________________________________________________________________________________________________\n",
      "Layer (type)                    Output Shape         Param #     Connected to                     \n",
      "==================================================================================================\n",
      "input_1 (InputLayer)            [(None, 299, 299, 3) 0                                            \n",
      "__________________________________________________________________________________________________\n",
      "block1_conv1 (Conv2D)           (None, 149, 149, 32) 864         input_1[0][0]                    \n",
      "__________________________________________________________________________________________________\n",
      "block1_conv1_bn (BatchNormaliza (None, 149, 149, 32) 128         block1_conv1[0][0]               \n",
      "__________________________________________________________________________________________________\n",
      "block1_conv1_act (Activation)   (None, 149, 149, 32) 0           block1_conv1_bn[0][0]            \n",
      "__________________________________________________________________________________________________\n",
      "block1_conv2 (Conv2D)           (None, 147, 147, 64) 18432       block1_conv1_act[0][0]           \n",
      "__________________________________________________________________________________________________\n",
      "block1_conv2_bn (BatchNormaliza (None, 147, 147, 64) 256         block1_conv2[0][0]               \n",
      "__________________________________________________________________________________________________\n",
      "block1_conv2_act (Activation)   (None, 147, 147, 64) 0           block1_conv2_bn[0][0]            \n",
      "__________________________________________________________________________________________________\n",
      "block2_sepconv1 (SeparableConv2 (None, 147, 147, 128 8768        block1_conv2_act[0][0]           \n",
      "__________________________________________________________________________________________________\n",
      "block2_sepconv1_bn (BatchNormal (None, 147, 147, 128 512         block2_sepconv1[0][0]            \n",
      "__________________________________________________________________________________________________\n",
      "block2_sepconv2_act (Activation (None, 147, 147, 128 0           block2_sepconv1_bn[0][0]         \n",
      "__________________________________________________________________________________________________\n",
      "block2_sepconv2 (SeparableConv2 (None, 147, 147, 128 17536       block2_sepconv2_act[0][0]        \n",
      "__________________________________________________________________________________________________\n",
      "block2_sepconv2_bn (BatchNormal (None, 147, 147, 128 512         block2_sepconv2[0][0]            \n",
      "__________________________________________________________________________________________________\n",
      "conv2d (Conv2D)                 (None, 74, 74, 128)  8192        block1_conv2_act[0][0]           \n",
      "__________________________________________________________________________________________________\n",
      "block2_pool (MaxPooling2D)      (None, 74, 74, 128)  0           block2_sepconv2_bn[0][0]         \n",
      "__________________________________________________________________________________________________\n",
      "batch_normalization (BatchNorma (None, 74, 74, 128)  512         conv2d[0][0]                     \n",
      "__________________________________________________________________________________________________\n",
      "add (Add)                       (None, 74, 74, 128)  0           block2_pool[0][0]                \n",
      "                                                                 batch_normalization[0][0]        \n",
      "__________________________________________________________________________________________________\n",
      "block3_sepconv1_act (Activation (None, 74, 74, 128)  0           add[0][0]                        \n",
      "__________________________________________________________________________________________________\n",
      "block3_sepconv1 (SeparableConv2 (None, 74, 74, 256)  33920       block3_sepconv1_act[0][0]        \n",
      "__________________________________________________________________________________________________\n",
      "block3_sepconv1_bn (BatchNormal (None, 74, 74, 256)  1024        block3_sepconv1[0][0]            \n",
      "__________________________________________________________________________________________________\n",
      "block3_sepconv2_act (Activation (None, 74, 74, 256)  0           block3_sepconv1_bn[0][0]         \n",
      "__________________________________________________________________________________________________\n",
      "block3_sepconv2 (SeparableConv2 (None, 74, 74, 256)  67840       block3_sepconv2_act[0][0]        \n",
      "__________________________________________________________________________________________________\n",
      "block3_sepconv2_bn (BatchNormal (None, 74, 74, 256)  1024        block3_sepconv2[0][0]            \n",
      "__________________________________________________________________________________________________\n",
      "conv2d_1 (Conv2D)               (None, 37, 37, 256)  32768       add[0][0]                        \n",
      "__________________________________________________________________________________________________\n",
      "block3_pool (MaxPooling2D)      (None, 37, 37, 256)  0           block3_sepconv2_bn[0][0]         \n",
      "__________________________________________________________________________________________________\n",
      "batch_normalization_1 (BatchNor (None, 37, 37, 256)  1024        conv2d_1[0][0]                   \n",
      "__________________________________________________________________________________________________\n",
      "add_1 (Add)                     (None, 37, 37, 256)  0           block3_pool[0][0]                \n",
      "                                                                 batch_normalization_1[0][0]      \n",
      "__________________________________________________________________________________________________\n",
      "block4_sepconv1_act (Activation (None, 37, 37, 256)  0           add_1[0][0]                      \n",
      "__________________________________________________________________________________________________\n",
      "block4_sepconv1 (SeparableConv2 (None, 37, 37, 728)  188672      block4_sepconv1_act[0][0]        \n",
      "__________________________________________________________________________________________________\n",
      "block4_sepconv1_bn (BatchNormal (None, 37, 37, 728)  2912        block4_sepconv1[0][0]            \n",
      "__________________________________________________________________________________________________\n",
      "block4_sepconv2_act (Activation (None, 37, 37, 728)  0           block4_sepconv1_bn[0][0]         \n",
      "__________________________________________________________________________________________________\n",
      "block4_sepconv2 (SeparableConv2 (None, 37, 37, 728)  536536      block4_sepconv2_act[0][0]        \n",
      "__________________________________________________________________________________________________\n",
      "block4_sepconv2_bn (BatchNormal (None, 37, 37, 728)  2912        block4_sepconv2[0][0]            \n",
      "__________________________________________________________________________________________________\n",
      "conv2d_2 (Conv2D)               (None, 19, 19, 728)  186368      add_1[0][0]                      \n",
      "__________________________________________________________________________________________________\n",
      "block4_pool (MaxPooling2D)      (None, 19, 19, 728)  0           block4_sepconv2_bn[0][0]         \n",
      "__________________________________________________________________________________________________\n",
      "batch_normalization_2 (BatchNor (None, 19, 19, 728)  2912        conv2d_2[0][0]                   \n",
      "__________________________________________________________________________________________________\n",
      "add_2 (Add)                     (None, 19, 19, 728)  0           block4_pool[0][0]                \n",
      "                                                                 batch_normalization_2[0][0]      \n",
      "__________________________________________________________________________________________________\n",
      "block5_sepconv1_act (Activation (None, 19, 19, 728)  0           add_2[0][0]                      \n",
      "__________________________________________________________________________________________________\n",
      "block5_sepconv1 (SeparableConv2 (None, 19, 19, 728)  536536      block5_sepconv1_act[0][0]        \n",
      "__________________________________________________________________________________________________\n",
      "block5_sepconv1_bn (BatchNormal (None, 19, 19, 728)  2912        block5_sepconv1[0][0]            \n",
      "__________________________________________________________________________________________________\n",
      "block5_sepconv2_act (Activation (None, 19, 19, 728)  0           block5_sepconv1_bn[0][0]         \n",
      "__________________________________________________________________________________________________\n",
      "block5_sepconv2 (SeparableConv2 (None, 19, 19, 728)  536536      block5_sepconv2_act[0][0]        \n",
      "__________________________________________________________________________________________________\n",
      "block5_sepconv2_bn (BatchNormal (None, 19, 19, 728)  2912        block5_sepconv2[0][0]            \n",
      "__________________________________________________________________________________________________\n",
      "block5_sepconv3_act (Activation (None, 19, 19, 728)  0           block5_sepconv2_bn[0][0]         \n",
      "__________________________________________________________________________________________________\n",
      "block5_sepconv3 (SeparableConv2 (None, 19, 19, 728)  536536      block5_sepconv3_act[0][0]        \n",
      "__________________________________________________________________________________________________\n",
      "block5_sepconv3_bn (BatchNormal (None, 19, 19, 728)  2912        block5_sepconv3[0][0]            \n",
      "__________________________________________________________________________________________________\n",
      "add_3 (Add)                     (None, 19, 19, 728)  0           block5_sepconv3_bn[0][0]         \n",
      "                                                                 add_2[0][0]                      \n",
      "__________________________________________________________________________________________________\n",
      "block6_sepconv1_act (Activation (None, 19, 19, 728)  0           add_3[0][0]                      \n",
      "__________________________________________________________________________________________________\n",
      "block6_sepconv1 (SeparableConv2 (None, 19, 19, 728)  536536      block6_sepconv1_act[0][0]        \n",
      "__________________________________________________________________________________________________\n",
      "block6_sepconv1_bn (BatchNormal (None, 19, 19, 728)  2912        block6_sepconv1[0][0]            \n",
      "__________________________________________________________________________________________________\n",
      "block6_sepconv2_act (Activation (None, 19, 19, 728)  0           block6_sepconv1_bn[0][0]         \n",
      "__________________________________________________________________________________________________\n",
      "block6_sepconv2 (SeparableConv2 (None, 19, 19, 728)  536536      block6_sepconv2_act[0][0]        \n",
      "__________________________________________________________________________________________________\n",
      "block6_sepconv2_bn (BatchNormal (None, 19, 19, 728)  2912        block6_sepconv2[0][0]            \n",
      "__________________________________________________________________________________________________\n",
      "block6_sepconv3_act (Activation (None, 19, 19, 728)  0           block6_sepconv2_bn[0][0]         \n",
      "__________________________________________________________________________________________________\n",
      "block6_sepconv3 (SeparableConv2 (None, 19, 19, 728)  536536      block6_sepconv3_act[0][0]        \n",
      "__________________________________________________________________________________________________\n",
      "block6_sepconv3_bn (BatchNormal (None, 19, 19, 728)  2912        block6_sepconv3[0][0]            \n",
      "__________________________________________________________________________________________________\n",
      "add_4 (Add)                     (None, 19, 19, 728)  0           block6_sepconv3_bn[0][0]         \n",
      "                                                                 add_3[0][0]                      \n",
      "__________________________________________________________________________________________________\n",
      "block7_sepconv1_act (Activation (None, 19, 19, 728)  0           add_4[0][0]                      \n",
      "__________________________________________________________________________________________________\n",
      "block7_sepconv1 (SeparableConv2 (None, 19, 19, 728)  536536      block7_sepconv1_act[0][0]        \n",
      "__________________________________________________________________________________________________\n",
      "block7_sepconv1_bn (BatchNormal (None, 19, 19, 728)  2912        block7_sepconv1[0][0]            \n",
      "__________________________________________________________________________________________________\n",
      "block7_sepconv2_act (Activation (None, 19, 19, 728)  0           block7_sepconv1_bn[0][0]         \n",
      "__________________________________________________________________________________________________\n",
      "block7_sepconv2 (SeparableConv2 (None, 19, 19, 728)  536536      block7_sepconv2_act[0][0]        \n",
      "__________________________________________________________________________________________________\n",
      "block7_sepconv2_bn (BatchNormal (None, 19, 19, 728)  2912        block7_sepconv2[0][0]            \n",
      "__________________________________________________________________________________________________\n",
      "block7_sepconv3_act (Activation (None, 19, 19, 728)  0           block7_sepconv2_bn[0][0]         \n",
      "__________________________________________________________________________________________________\n",
      "block7_sepconv3 (SeparableConv2 (None, 19, 19, 728)  536536      block7_sepconv3_act[0][0]        \n",
      "__________________________________________________________________________________________________\n",
      "block7_sepconv3_bn (BatchNormal (None, 19, 19, 728)  2912        block7_sepconv3[0][0]            \n",
      "__________________________________________________________________________________________________\n",
      "add_5 (Add)                     (None, 19, 19, 728)  0           block7_sepconv3_bn[0][0]         \n",
      "                                                                 add_4[0][0]                      \n",
      "__________________________________________________________________________________________________\n",
      "block8_sepconv1_act (Activation (None, 19, 19, 728)  0           add_5[0][0]                      \n",
      "__________________________________________________________________________________________________\n",
      "block8_sepconv1 (SeparableConv2 (None, 19, 19, 728)  536536      block8_sepconv1_act[0][0]        \n",
      "__________________________________________________________________________________________________\n",
      "block8_sepconv1_bn (BatchNormal (None, 19, 19, 728)  2912        block8_sepconv1[0][0]            \n",
      "__________________________________________________________________________________________________\n",
      "block8_sepconv2_act (Activation (None, 19, 19, 728)  0           block8_sepconv1_bn[0][0]         \n",
      "__________________________________________________________________________________________________\n",
      "block8_sepconv2 (SeparableConv2 (None, 19, 19, 728)  536536      block8_sepconv2_act[0][0]        \n",
      "__________________________________________________________________________________________________\n",
      "block8_sepconv2_bn (BatchNormal (None, 19, 19, 728)  2912        block8_sepconv2[0][0]            \n",
      "__________________________________________________________________________________________________\n",
      "block8_sepconv3_act (Activation (None, 19, 19, 728)  0           block8_sepconv2_bn[0][0]         \n",
      "__________________________________________________________________________________________________\n",
      "block8_sepconv3 (SeparableConv2 (None, 19, 19, 728)  536536      block8_sepconv3_act[0][0]        \n",
      "__________________________________________________________________________________________________\n",
      "block8_sepconv3_bn (BatchNormal (None, 19, 19, 728)  2912        block8_sepconv3[0][0]            \n",
      "__________________________________________________________________________________________________\n",
      "add_6 (Add)                     (None, 19, 19, 728)  0           block8_sepconv3_bn[0][0]         \n",
      "                                                                 add_5[0][0]                      \n",
      "__________________________________________________________________________________________________\n",
      "block9_sepconv1_act (Activation (None, 19, 19, 728)  0           add_6[0][0]                      \n",
      "__________________________________________________________________________________________________\n",
      "block9_sepconv1 (SeparableConv2 (None, 19, 19, 728)  536536      block9_sepconv1_act[0][0]        \n",
      "__________________________________________________________________________________________________\n",
      "block9_sepconv1_bn (BatchNormal (None, 19, 19, 728)  2912        block9_sepconv1[0][0]            \n",
      "__________________________________________________________________________________________________\n",
      "block9_sepconv2_act (Activation (None, 19, 19, 728)  0           block9_sepconv1_bn[0][0]         \n",
      "__________________________________________________________________________________________________\n",
      "block9_sepconv2 (SeparableConv2 (None, 19, 19, 728)  536536      block9_sepconv2_act[0][0]        \n",
      "__________________________________________________________________________________________________\n",
      "block9_sepconv2_bn (BatchNormal (None, 19, 19, 728)  2912        block9_sepconv2[0][0]            \n",
      "__________________________________________________________________________________________________\n",
      "block9_sepconv3_act (Activation (None, 19, 19, 728)  0           block9_sepconv2_bn[0][0]         \n",
      "__________________________________________________________________________________________________\n",
      "block9_sepconv3 (SeparableConv2 (None, 19, 19, 728)  536536      block9_sepconv3_act[0][0]        \n",
      "__________________________________________________________________________________________________\n",
      "block9_sepconv3_bn (BatchNormal (None, 19, 19, 728)  2912        block9_sepconv3[0][0]            \n",
      "__________________________________________________________________________________________________\n",
      "add_7 (Add)                     (None, 19, 19, 728)  0           block9_sepconv3_bn[0][0]         \n",
      "                                                                 add_6[0][0]                      \n",
      "__________________________________________________________________________________________________\n",
      "block10_sepconv1_act (Activatio (None, 19, 19, 728)  0           add_7[0][0]                      \n",
      "__________________________________________________________________________________________________\n",
      "block10_sepconv1 (SeparableConv (None, 19, 19, 728)  536536      block10_sepconv1_act[0][0]       \n",
      "__________________________________________________________________________________________________\n",
      "block10_sepconv1_bn (BatchNorma (None, 19, 19, 728)  2912        block10_sepconv1[0][0]           \n",
      "__________________________________________________________________________________________________\n",
      "block10_sepconv2_act (Activatio (None, 19, 19, 728)  0           block10_sepconv1_bn[0][0]        \n",
      "__________________________________________________________________________________________________\n",
      "block10_sepconv2 (SeparableConv (None, 19, 19, 728)  536536      block10_sepconv2_act[0][0]       \n",
      "__________________________________________________________________________________________________\n",
      "block10_sepconv2_bn (BatchNorma (None, 19, 19, 728)  2912        block10_sepconv2[0][0]           \n",
      "__________________________________________________________________________________________________\n",
      "block10_sepconv3_act (Activatio (None, 19, 19, 728)  0           block10_sepconv2_bn[0][0]        \n",
      "__________________________________________________________________________________________________\n",
      "block10_sepconv3 (SeparableConv (None, 19, 19, 728)  536536      block10_sepconv3_act[0][0]       \n",
      "__________________________________________________________________________________________________\n",
      "block10_sepconv3_bn (BatchNorma (None, 19, 19, 728)  2912        block10_sepconv3[0][0]           \n",
      "__________________________________________________________________________________________________\n",
      "add_8 (Add)                     (None, 19, 19, 728)  0           block10_sepconv3_bn[0][0]        \n",
      "                                                                 add_7[0][0]                      \n",
      "__________________________________________________________________________________________________\n",
      "block11_sepconv1_act (Activatio (None, 19, 19, 728)  0           add_8[0][0]                      \n",
      "__________________________________________________________________________________________________\n",
      "block11_sepconv1 (SeparableConv (None, 19, 19, 728)  536536      block11_sepconv1_act[0][0]       \n",
      "__________________________________________________________________________________________________\n",
      "block11_sepconv1_bn (BatchNorma (None, 19, 19, 728)  2912        block11_sepconv1[0][0]           \n",
      "__________________________________________________________________________________________________\n",
      "block11_sepconv2_act (Activatio (None, 19, 19, 728)  0           block11_sepconv1_bn[0][0]        \n",
      "__________________________________________________________________________________________________\n",
      "block11_sepconv2 (SeparableConv (None, 19, 19, 728)  536536      block11_sepconv2_act[0][0]       \n",
      "__________________________________________________________________________________________________\n",
      "block11_sepconv2_bn (BatchNorma (None, 19, 19, 728)  2912        block11_sepconv2[0][0]           \n",
      "__________________________________________________________________________________________________\n",
      "block11_sepconv3_act (Activatio (None, 19, 19, 728)  0           block11_sepconv2_bn[0][0]        \n",
      "__________________________________________________________________________________________________\n",
      "block11_sepconv3 (SeparableConv (None, 19, 19, 728)  536536      block11_sepconv3_act[0][0]       \n",
      "__________________________________________________________________________________________________\n",
      "block11_sepconv3_bn (BatchNorma (None, 19, 19, 728)  2912        block11_sepconv3[0][0]           \n",
      "__________________________________________________________________________________________________\n",
      "add_9 (Add)                     (None, 19, 19, 728)  0           block11_sepconv3_bn[0][0]        \n",
      "                                                                 add_8[0][0]                      \n",
      "__________________________________________________________________________________________________\n",
      "block12_sepconv1_act (Activatio (None, 19, 19, 728)  0           add_9[0][0]                      \n",
      "__________________________________________________________________________________________________\n",
      "block12_sepconv1 (SeparableConv (None, 19, 19, 728)  536536      block12_sepconv1_act[0][0]       \n",
      "__________________________________________________________________________________________________\n",
      "block12_sepconv1_bn (BatchNorma (None, 19, 19, 728)  2912        block12_sepconv1[0][0]           \n",
      "__________________________________________________________________________________________________\n",
      "block12_sepconv2_act (Activatio (None, 19, 19, 728)  0           block12_sepconv1_bn[0][0]        \n",
      "__________________________________________________________________________________________________\n",
      "block12_sepconv2 (SeparableConv (None, 19, 19, 728)  536536      block12_sepconv2_act[0][0]       \n",
      "__________________________________________________________________________________________________\n",
      "block12_sepconv2_bn (BatchNorma (None, 19, 19, 728)  2912        block12_sepconv2[0][0]           \n",
      "__________________________________________________________________________________________________\n",
      "block12_sepconv3_act (Activatio (None, 19, 19, 728)  0           block12_sepconv2_bn[0][0]        \n",
      "__________________________________________________________________________________________________\n",
      "block12_sepconv3 (SeparableConv (None, 19, 19, 728)  536536      block12_sepconv3_act[0][0]       \n",
      "__________________________________________________________________________________________________\n",
      "block12_sepconv3_bn (BatchNorma (None, 19, 19, 728)  2912        block12_sepconv3[0][0]           \n",
      "__________________________________________________________________________________________________\n",
      "add_10 (Add)                    (None, 19, 19, 728)  0           block12_sepconv3_bn[0][0]        \n",
      "                                                                 add_9[0][0]                      \n",
      "__________________________________________________________________________________________________\n",
      "block13_sepconv1_act (Activatio (None, 19, 19, 728)  0           add_10[0][0]                     \n",
      "__________________________________________________________________________________________________\n",
      "block13_sepconv1 (SeparableConv (None, 19, 19, 728)  536536      block13_sepconv1_act[0][0]       \n",
      "__________________________________________________________________________________________________\n",
      "block13_sepconv1_bn (BatchNorma (None, 19, 19, 728)  2912        block13_sepconv1[0][0]           \n",
      "__________________________________________________________________________________________________\n",
      "block13_sepconv2_act (Activatio (None, 19, 19, 728)  0           block13_sepconv1_bn[0][0]        \n",
      "__________________________________________________________________________________________________\n",
      "block13_sepconv2 (SeparableConv (None, 19, 19, 1024) 752024      block13_sepconv2_act[0][0]       \n",
      "__________________________________________________________________________________________________\n",
      "block13_sepconv2_bn (BatchNorma (None, 19, 19, 1024) 4096        block13_sepconv2[0][0]           \n",
      "__________________________________________________________________________________________________\n",
      "conv2d_3 (Conv2D)               (None, 10, 10, 1024) 745472      add_10[0][0]                     \n",
      "__________________________________________________________________________________________________\n",
      "block13_pool (MaxPooling2D)     (None, 10, 10, 1024) 0           block13_sepconv2_bn[0][0]        \n",
      "__________________________________________________________________________________________________\n",
      "batch_normalization_3 (BatchNor (None, 10, 10, 1024) 4096        conv2d_3[0][0]                   \n",
      "__________________________________________________________________________________________________\n",
      "add_11 (Add)                    (None, 10, 10, 1024) 0           block13_pool[0][0]               \n",
      "                                                                 batch_normalization_3[0][0]      \n",
      "__________________________________________________________________________________________________\n",
      "block14_sepconv1 (SeparableConv (None, 10, 10, 1536) 1582080     add_11[0][0]                     \n",
      "__________________________________________________________________________________________________\n",
      "block14_sepconv1_bn (BatchNorma (None, 10, 10, 1536) 6144        block14_sepconv1[0][0]           \n",
      "__________________________________________________________________________________________________\n",
      "block14_sepconv1_act (Activatio (None, 10, 10, 1536) 0           block14_sepconv1_bn[0][0]        \n",
      "__________________________________________________________________________________________________\n",
      "block14_sepconv2 (SeparableConv (None, 10, 10, 2048) 3159552     block14_sepconv1_act[0][0]       \n",
      "__________________________________________________________________________________________________\n",
      "block14_sepconv2_bn (BatchNorma (None, 10, 10, 2048) 8192        block14_sepconv2[0][0]           \n",
      "__________________________________________________________________________________________________\n",
      "block14_sepconv2_act (Activatio (None, 10, 10, 2048) 0           block14_sepconv2_bn[0][0]        \n",
      "__________________________________________________________________________________________________\n",
      "conv2d_4 (Conv2D)               (None, 10, 10, 1024) 18875392    block14_sepconv2_act[0][0]       \n",
      "__________________________________________________________________________________________________\n",
      "batch_normalization_4 (BatchNor (None, 10, 10, 1024) 4096        conv2d_4[0][0]                   \n",
      "__________________________________________________________________________________________________\n",
      "activation (Activation)         (None, 10, 10, 1024) 0           batch_normalization_4[0][0]      \n",
      "__________________________________________________________________________________________________\n",
      "conv2d_5 (Conv2D)               (None, 10, 10, 256)  2359552     activation[0][0]                 \n",
      "__________________________________________________________________________________________________\n",
      "batch_normalization_5 (BatchNor (None, 10, 10, 256)  1024        conv2d_5[0][0]                   \n",
      "__________________________________________________________________________________________________\n",
      "activation_1 (Activation)       (None, 10, 10, 256)  0           batch_normalization_5[0][0]      \n",
      "__________________________________________________________________________________________________\n",
      "conv2d_6 (Conv2D)               (None, 10, 10, 64)   147520      activation_1[0][0]               \n",
      "__________________________________________________________________________________________________\n",
      "batch_normalization_6 (BatchNor (None, 10, 10, 64)   256         conv2d_6[0][0]                   \n",
      "__________________________________________________________________________________________________\n",
      "activation_2 (Activation)       (None, 10, 10, 64)   0           batch_normalization_6[0][0]      \n",
      "__________________________________________________________________________________________________\n",
      "conv2d_7 (Conv2D)               (None, 10, 10, 5)    2885        activation_2[0][0]               \n",
      "__________________________________________________________________________________________________\n",
      "batch_normalization_7 (BatchNor (None, 10, 10, 5)    20          conv2d_7[0][0]                   \n",
      "__________________________________________________________________________________________________\n",
      "activation_3 (Activation)       (None, 10, 10, 5)    0           batch_normalization_7[0][0]      \n",
      "__________________________________________________________________________________________________\n",
      "global_average_pooling2d (Globa (None, 5)            0           activation_3[0][0]               \n",
      "__________________________________________________________________________________________________\n",
      "tf.compat.v1.nn.softmax (TFOpLa (None, 5)            0           global_average_pooling2d[0][0]   \n",
      "==================================================================================================\n",
      "Total params: 42,252,225\n",
      "Trainable params: 42,194,999\n",
      "Non-trainable params: 57,226\n",
      "__________________________________________________________________________________________________\n"
     ]
    }
   ],
   "source": [
    "xception_model.summary()"
   ]
  },
  {
   "cell_type": "code",
   "execution_count": 31,
   "id": "better-offering",
   "metadata": {
    "execution": {
     "iopub.execute_input": "2022-06-20T20:58:13.613357Z",
     "iopub.status.busy": "2022-06-20T20:58:13.612434Z",
     "iopub.status.idle": "2022-06-20T20:58:13.624795Z",
     "shell.execute_reply": "2022-06-20T20:58:13.626297Z"
    },
    "papermill": {
     "duration": 1.434853,
     "end_time": "2022-06-20T20:58:13.626531",
     "exception": false,
     "start_time": "2022-06-20T20:58:12.191678",
     "status": "completed"
    },
    "tags": []
   },
   "outputs": [],
   "source": [
    "def tr_plot(tr_data, start_epoch):\n",
    "    tacc=tr_data.history['acc']\n",
    "    tloss=tr_data.history['loss']\n",
    "    vacc=tr_data.history['val_acc']\n",
    "    vloss=tr_data.history['val_loss']\n",
    "    Epoch_count=len(tacc)+ start_epoch\n",
    "    Epochs=[]\n",
    "    for i in range (start_epoch ,Epoch_count):\n",
    "        Epochs.append(i+1)   \n",
    "    index_loss=np.argmin(vloss)\n",
    "    val_lowest=vloss[index_loss]\n",
    "    index_acc=np.argmax(vacc)\n",
    "    acc_highest=vacc[index_acc]\n",
    "    plt.style.use('fivethirtyeight')\n",
    "    sc_label='best epoch= '+ str(index_loss+1 +start_epoch)\n",
    "    vc_label='best epoch= '+ str(index_acc + 1+ start_epoch)\n",
    "    fig,axes=plt.subplots(nrows=1, ncols=2, figsize=(20,8))\n",
    "    axes[0].plot(Epochs,tloss, 'r', label='Training loss')\n",
    "    axes[0].plot(Epochs,vloss,'g',label='Validation loss' )\n",
    "    axes[0].scatter(index_loss+1 +start_epoch,val_lowest, s=150, c= 'blue', label=sc_label)\n",
    "    axes[0].set_title('Training and Validation Loss')\n",
    "    axes[0].set_xlabel('Epochs')\n",
    "    axes[0].set_ylabel('Loss')\n",
    "    axes[0].legend()\n",
    "    axes[1].plot (Epochs,tacc,'r',label= 'Training Accuracy')\n",
    "    axes[1].plot (Epochs,vacc,'g',label= 'Validation Accuracy')\n",
    "    axes[1].scatter(index_acc+1 +start_epoch,acc_highest, s=150, c= 'blue', label=vc_label)\n",
    "    axes[1].set_title('Training and Validation Accuracy')\n",
    "    axes[1].set_xlabel('Epochs')\n",
    "    axes[1].set_ylabel('Accuracy')\n",
    "    axes[1].legend()\n",
    "    plt.tight_layout\n",
    "    plt.show()"
   ]
  },
  {
   "cell_type": "code",
   "execution_count": 32,
   "id": "transsexual-basketball",
   "metadata": {
    "execution": {
     "iopub.execute_input": "2022-06-20T20:58:16.136630Z",
     "iopub.status.busy": "2022-06-20T20:58:16.135845Z",
     "iopub.status.idle": "2022-06-20T20:58:16.138856Z",
     "shell.execute_reply": "2022-06-20T20:58:16.139373Z"
    },
    "papermill": {
     "duration": 1.262884,
     "end_time": "2022-06-20T20:58:16.139514",
     "exception": false,
     "start_time": "2022-06-20T20:58:14.876630",
     "status": "completed"
    },
    "tags": []
   },
   "outputs": [
    {
     "data": {
      "text/plain": [
       "{'loss': [0.8902285099029541,\n",
       "  0.7799321413040161,\n",
       "  0.7128657102584839,\n",
       "  0.6829543709754944,\n",
       "  0.6580817103385925],\n",
       " 'acc': [0.802509605884552,\n",
       "  0.8874946236610413,\n",
       "  0.928561270236969,\n",
       "  0.951233446598053,\n",
       "  0.9616426825523376],\n",
       " 'val_loss': [0.766570508480072,\n",
       "  0.8503801822662354,\n",
       "  0.8297130465507507,\n",
       "  0.8318091034889221,\n",
       "  0.8335604667663574],\n",
       " 'val_acc': [0.8619791865348816,\n",
       "  0.80859375,\n",
       "  0.8541666865348816,\n",
       "  0.86328125,\n",
       "  0.8450520634651184],\n",
       " 'lr': [1e-05, 1e-05, 1e-05, 1e-05, 1e-05]}"
      ]
     },
     "execution_count": 32,
     "metadata": {},
     "output_type": "execute_result"
    }
   ],
   "source": [
    "history.history"
   ]
  },
  {
   "cell_type": "code",
   "execution_count": 33,
   "id": "finite-berkeley",
   "metadata": {
    "execution": {
     "iopub.execute_input": "2022-06-20T20:58:18.716986Z",
     "iopub.status.busy": "2022-06-20T20:58:18.716135Z",
     "iopub.status.idle": "2022-06-20T20:58:19.144889Z",
     "shell.execute_reply": "2022-06-20T20:58:19.145400Z"
    },
    "papermill": {
     "duration": 1.707571,
     "end_time": "2022-06-20T20:58:19.145605",
     "exception": false,
     "start_time": "2022-06-20T20:58:17.438034",
     "status": "completed"
    },
    "tags": []
   },
   "outputs": [
    {
     "data": {
      "image/png": "[encoded data removed]",
      "text/plain": [
       "<Figure size 1440x576 with 2 Axes>"
      ]
     },
     "metadata": {},
     "output_type": "display_data"
    }
   ],
   "source": [
    "tr_plot(history, 0) "
   ]
  },
  {
   "cell_type": "code",
   "execution_count": 34,
   "id": "thorough-dialogue",
   "metadata": {
    "execution": {
     "iopub.execute_input": "2022-06-20T20:58:21.673699Z",
     "iopub.status.busy": "2022-06-20T20:58:21.672905Z",
     "iopub.status.idle": "2022-06-20T20:58:21.681854Z",
     "shell.execute_reply": "2022-06-20T20:58:21.681249Z"
    },
    "papermill": {
     "duration": 1.272242,
     "end_time": "2022-06-20T20:58:21.682022",
     "exception": false,
     "start_time": "2022-06-20T20:58:20.409780",
     "status": "completed"
    },
    "tags": []
   },
   "outputs": [
    {
     "name": "stdout",
     "output_type": "stream",
     "text": [
      "              precision    recall  f1-score   support\n",
      "\n",
      "           0       0.87      0.86      0.87       308\n",
      "           1       0.76      0.86      0.81       142\n",
      "           2       0.91      0.80      0.85       206\n",
      "           3       0.90      0.96      0.93       103\n",
      "           4       0.92      1.00      0.96        24\n",
      "\n",
      "    accuracy                           0.86       783\n",
      "   macro avg       0.87      0.90      0.88       783\n",
      "weighted avg       0.87      0.86      0.86       783\n",
      "\n"
     ]
    }
   ],
   "source": [
    "from sklearn.metrics import classification_report\n",
    "\n",
    "print(classification_report(X_test.label, list(class_prediction_compi), labels=[0, 1, 2, 3, 4]))"
   ]
  },
  {
   "cell_type": "code",
   "execution_count": null,
   "id": "daily-afghanistan",
   "metadata": {
    "papermill": {
     "duration": 1.260589,
     "end_time": "2022-06-20T20:58:24.498036",
     "exception": false,
     "start_time": "2022-06-20T20:58:23.237447",
     "status": "completed"
    },
    "tags": []
   },
   "outputs": [],
   "source": []
  }
 ],
 "metadata": {
  "kernelspec": {
   "display_name": "Python 3",
   "language": "python",
   "name": "python3"
  },
  "language_info": {
   "codemirror_mode": {
    "name": "ipython",
    "version": 3
   },
   "file_extension": ".py",
   "mimetype": "text/x-python",
   "name": "python",
   "nbconvert_exporter": "python",
   "pygments_lexer": "ipython3",
   "version": "3.7.10"
  },
  "papermill": {
   "default_parameters": {},
   "duration": 2129.04336,
   "end_time": "2022-06-20T20:58:28.975427",
   "environment_variables": {},
   "exception": null,
   "input_path": "__notebook__.ipynb",
   "output_path": "__notebook__.ipynb",
   "parameters": {},
   "start_time": "2022-06-20T20:22:59.932067",
   "version": "2.3.3"
  }
 },
 "nbformat": 4,
 "nbformat_minor": 5
}
